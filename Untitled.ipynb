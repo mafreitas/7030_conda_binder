{
 "cells": [
  {
   "cell_type": "markdown",
   "id": "c5d08ec5-108d-4e23-bbee-538100131d82",
   "metadata": {},
   "source": [
    "# My wonderful python script that says \"Hello World\" to my amazing class"
   ]
  },
  {
   "cell_type": "code",
   "execution_count": 3,
   "id": "2efee94f-f6c3-468b-b69e-797457c89acc",
   "metadata": {
    "tags": []
   },
   "outputs": [
    {
     "name": "stdout",
     "output_type": "stream",
     "text": [
      "Hello World\n"
     ]
    }
   ],
   "source": [
    "print(\"Hello World\")"
   ]
  },
  {
   "cell_type": "code",
   "execution_count": null,
   "id": "291f582b-3d72-4202-9b3c-823c4ffc0189",
   "metadata": {},
   "outputs": [],
   "source": []
  }
 ],
 "metadata": {
  "kernelspec": {
   "display_name": "Python 3 (ipykernel)",
   "language": "python",
   "name": "python3"
  },
  "language_info": {
   "codemirror_mode": {
    "name": "ipython",
    "version": 3
   },
   "file_extension": ".py",
   "mimetype": "text/x-python",
   "name": "python",
   "nbconvert_exporter": "python",
   "pygments_lexer": "ipython3",
   "version": "3.11.4"
  }
 },
 "nbformat": 4,
 "nbformat_minor": 5
}
