{
 "cells": [
  {
   "cell_type": "markdown",
   "id": "c5d08ec5-108d-4e23-bbee-538100131d82",
   "metadata": {},
   "source": [
    "# My wonderful bash script that says \"Hello World\" to my amazing class"
   ]
  },
  {
   "cell_type": "code",
   "execution_count": 1,
   "id": "2efee94f-f6c3-468b-b69e-797457c89acc",
   "metadata": {
    "tags": []
   },
   "outputs": [
    {
     "name": "stdout",
     "output_type": "stream",
     "text": [
      "Hello World\n"
     ]
    }
   ],
   "source": [
    "!echo \"Hello World\""
   ]
  }
 ],
 "metadata": {
  "kernelspec": {
   "display_name": "Python 3 (ipykernel)",
   "language": "python",
   "name": "python3"
  },
  "language_info": {
   "codemirror_mode": {
    "name": "ipython",
    "version": 3
   },
   "file_extension": ".py",
   "mimetype": "text/x-python",
   "name": "python",
   "nbconvert_exporter": "python",
   "pygments_lexer": "ipython3",
   "version": "3.11.4"
  }
 },
 "nbformat": 4,
 "nbformat_minor": 5
}
